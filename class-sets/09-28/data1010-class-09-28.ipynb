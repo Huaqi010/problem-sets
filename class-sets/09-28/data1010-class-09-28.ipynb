{
 "cells": [
  {
   "cell_type": "markdown",
   "metadata": {},
   "source": [
    "# DATA 1010\n",
    "\n",
    "### 28 September 2020: Optimization Methods\n",
    "### Classtime problem set"
   ]
  },
  {
   "cell_type": "code",
   "execution_count": null,
   "metadata": {},
   "outputs": [],
   "source": [
    "using Plots"
   ]
  },
  {
   "cell_type": "markdown",
   "metadata": {},
   "source": [
    "## Problem 1\n",
    "Describe a method for cooking up a _mathematical_ function $f$ that could certainly not be correctly minimized, even approximately, by _any_ algorithm which is only able to interact with $f$ by querying its values at Float64-representable numbers."
   ]
  },
  {
   "cell_type": "markdown",
   "metadata": {},
   "source": [
    "## Problem 2\n",
    "\n",
    "Suppose that instead of $[-1,1]^2$, the function is defined on $[-1,1]^{20}$. How many points would we need to cover this hypercube with the same grid spacing of 0.2 units between points in each coordinate axis direction?"
   ]
  },
  {
   "cell_type": "markdown",
   "metadata": {},
   "source": [
    "## Problem 3\n",
    "\n",
    "Apply gradient descent to _Himmelblau's function_, the same one we used in the pre-class video. Start at the point $[2, -2.5]$."
   ]
  },
  {
   "cell_type": "code",
   "execution_count": null,
   "metadata": {},
   "outputs": [],
   "source": [
    "using Plots\n",
    "default(ratio = 1, size = (400, 400))\n",
    "f(x,y) = (x^2 + y - 11)^2 + (x + y^2 - 7)^2\n",
    "f(v) = f(v[1], v[2])\n",
    "contour(-6:0.02:6, -6:0.02:6, f,\n",
    "        levels = [2.0^k for k in -6:11])"
   ]
  },
  {
   "cell_type": "markdown",
   "metadata": {},
   "source": [
    "## Problem 4\n",
    "\n",
    "Apply gradient descent to the function. Start at the point $[1.2, -0.1]$. "
   ]
  },
  {
   "cell_type": "code",
   "execution_count": null,
   "metadata": {},
   "outputs": [],
   "source": [
    "f(x,y) = 1.5-(2x^2+3y^2)*exp(-x^2-y^2)\n",
    "default(ratio = 1, size = (400, 400))\n",
    "heatmap(-2:0.01:2, -2:0.01:2, f)"
   ]
  },
  {
   "cell_type": "markdown",
   "metadata": {},
   "source": [
    "# Convex optimization"
   ]
  },
  {
   "cell_type": "markdown",
   "metadata": {},
   "source": [
    "## Problem 5\n",
    "\n",
    "Sketch a convex set using your drawing tool. The collective goal as a class will be to have some variety in the types of shapes we choose."
   ]
  },
  {
   "cell_type": "markdown",
   "metadata": {},
   "source": [
    "## Problem 6\n",
    "\n",
    "Suppose we have a local min for such a convex function $f$ on a convex domain and then a lower global min somewhere else. What could we do with those two points to demonstrate that the local min isn't really a local min after all?"
   ]
  },
  {
   "cell_type": "markdown",
   "metadata": {},
   "source": [
    "## Problem 7\n",
    "\n",
    "Use JuMP to find the line of best fit for the points $(1,2), (2,5)$ and $(4,5)$. "
   ]
  },
  {
   "cell_type": "code",
   "execution_count": null,
   "metadata": {},
   "outputs": [],
   "source": [
    "using JuMP, Ipopt\n",
    "\n",
    "A = [1 2; 2 5; 4 5]\n",
    "model = Model(with_optimizer(Ipopt.Optimizer, print_level=0))\n",
    "@variable(model,m)\n",
    "@variable(model,b)\n",
    "@objective(model, Min, sum([(y - m*x - b)^2 for (x,y) in eachrow(A)]))\n",
    "optimize!(model)\n",
    "m1, b1 = JuMP.value(m), JuMP.value(b)"
   ]
  },
  {
   "cell_type": "code",
   "execution_count": null,
   "metadata": {},
   "outputs": [],
   "source": []
  }
 ],
 "metadata": {
  "@webio": {
   "lastCommId": "fe292e30-b6f4-43c6-ad05-655a0b35afa4",
   "lastKernelId": "ee673872-c126-4f28-9620-9debddc1dbbb"
  },
  "kernelspec": {
   "display_name": "Julia 1.5.1",
   "language": "julia",
   "name": "julia-1.5"
  },
  "language_info": {
   "file_extension": ".jl",
   "mimetype": "application/julia",
   "name": "julia",
   "version": "1.5.1"
  }
 },
 "nbformat": 4,
 "nbformat_minor": 4
}
